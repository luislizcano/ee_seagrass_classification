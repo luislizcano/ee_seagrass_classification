{
  "nbformat": 4,
  "nbformat_minor": 0,
  "metadata": {
    "kernelspec": {
      "display_name": "Python 3",
      "language": "python",
      "name": "python3"
    },
    "language_info": {
      "codemirror_mode": {
        "name": "ipython",
        "version": 3
      },
      "file_extension": ".py",
      "mimetype": "text/x-python",
      "name": "python",
      "nbconvert_exporter": "python",
      "pygments_lexer": "ipython3",
      "version": "3.9.2"
    },
    "colab": {
      "name": "seagrass_classification_colab.ipynb",
      "provenance": []
    }
  },
  "cells": [
    {
      "cell_type": "markdown",
      "metadata": {
        "id": "TjbBFrtV_T4x"
      },
      "source": [
        "# Semi-Automated Seagrass Classification Using Earth Engine Python API"
      ]
    },
    {
      "cell_type": "markdown",
      "metadata": {
        "id": "vftNALe-_T40"
      },
      "source": [
        "This script classify dense seagrass beds in satellite images (from Sentinel and Landsat sensors) using machine learning (Support Vector Machine). The outputs can be exported to EE Assets. All the training and validation matrices and accuracies can be saved as an Excel file in your working directory.<br/>\n",
        "**NOTE:** The classifications will use only the aerosol (if available), blue, green, red and Blue/Green (from Depth Invariant Index) bands."
      ]
    },
    {
      "cell_type": "markdown",
      "metadata": {
        "id": "1NU84w1X_T41"
      },
      "source": [
        "Script by: Luis Lizcano-Sandoval<br/>\n",
        "College of Marine Sciences, University of South Florida<br/>\n",
        "luislizcanos@usf.edu<br/>\n",
        "Updated: 09/03/2021<br/>\n",
        "[Open script in Colab](https://colab.research.google.com/github.com/luislizcano/ee_seagrass_classification/main/jupyter-notebooks/seagrass_classification_colab.ipynb)<br/>\n"
      ]
    },
    {
      "cell_type": "markdown",
      "metadata": {
        "id": "beRj6HQM_T42"
      },
      "source": [
        "<font size=\"4\">**Workflow:**</font>"
      ]
    },
    {
      "cell_type": "markdown",
      "metadata": {
        "id": "KyCi8yUW_T42"
      },
      "source": [
        "1. Import required images, collections, data, etc.\n",
        "2. Mask clouds, land, and deep areas >20m\n",
        "3. Apply Depth-Invariant Index (band-ratios)\n",
        "4. Sample bands: B1, B2, B3, B4, B/G\n",
        "5. Train models and classify (SVM)\n",
        "6. Get confusion matrices and accuracies\n",
        "7. Export output to EE Assets (.tiff)\n",
        "8. Save matrices in local computer (.xlxs)"
      ]
    },
    {
      "cell_type": "markdown",
      "metadata": {
        "id": "a80wFmI0_T43"
      },
      "source": [
        "Load required libraries (uncomment code blocks/lines as needed: ctrl+/):"
      ]
    },
    {
      "cell_type": "code",
      "metadata": {
        "id": "nZWQKNUd_T44"
      },
      "source": [
        "## Run this cell to mount your Google Drive\n",
        "import os, sys\n",
        "from google.colab import drive\n",
        "drive.mount('/content/drive')\n",
        "nb_path = '/content/notebooks'\n",
        "os.symlink('/content/drive/My Drive/Colab Notebooks', nb_path)\n",
        "sys.path.insert(0, nb_path)  # or append(nb_path)"
      ],
      "execution_count": null,
      "outputs": []
    },
    {
      "cell_type": "code",
      "metadata": {
        "id": "CAben_MECM5S"
      },
      "source": [
        "## Authenticate your EE account\n",
        "!earthengine authenticate"
      ],
      "execution_count": null,
      "outputs": []
    },
    {
      "cell_type": "code",
      "metadata": {
        "id": "TGeiorGhCOBt"
      },
      "source": [
        "## Install some libraries:\n",
        "!pip install xlsxwriter\n",
        "!pip install geemap"
      ],
      "execution_count": null,
      "outputs": []
    },
    {
      "cell_type": "code",
      "metadata": {
        "id": "imZd29BJErK6"
      },
      "source": [
        "## Clone github repo:\n",
        "!git clone https://github.com/luislizcano/ee_seagrass_classification.git"
      ],
      "execution_count": null,
      "outputs": []
    },
    {
      "cell_type": "code",
      "metadata": {
        "id": "n_cvhiXDCP3y"
      },
      "source": [
        "import os, sys\n",
        "sys.path.insert(0,'/content/ee_seagrass_classification')\n",
        "sys.path.append('/content/ee_seagrass_classification/bin')\n",
        "import ee\n",
        "import pandas as pd\n",
        "import xlsxwriter\n",
        "import datetime\n",
        "from functions import CloudScore6S,landMaskFunction,DII\n",
        "import geemap.foliumap as geemap\n",
        "# from IPython.display import display, Image\n",
        "\n",
        "ee.Initialize()\n",
        "print('EE Version :',ee.__version__)"
      ],
      "execution_count": null,
      "outputs": []
    },
    {
      "cell_type": "markdown",
      "metadata": {
        "id": "9y-kBHdS_T45"
      },
      "source": [
        "Initial Settings and Metadata:"
      ]
    },
    {
      "cell_type": "code",
      "metadata": {
        "id": "qfWsmJxi_T46"
      },
      "source": [
        "## Define the type of satellite\n",
        "satellite = 'Sentinel2'\n",
        "# satellite = 'Landsat8'\n",
        "# satellite = 'Landsat7'\n",
        "# satellite = 'Landsat5'\n",
        "\n",
        "## Some settings:\n",
        "#imageID = 'LT05_016041_19890205' ## Landsat-5 Image ID\n",
        "# imageID = 'LC08_015043_20200204' ## Landsat-8 Image ID\n",
        "imageID = '20191207T160509_20191207T160505_T17RNH' ## Sentinel-2 Image ID\n",
        "asset = 'users/lizcanosandoval/Seagrass/' ## Partial name of the EE asse to save the final output.\n",
        "exportFolder = 'Florida_Seagrass' ## Name of EE folder to save the final output.\n",
        "smoothStr = '_raw_' # Smooth classified pixels or not? options: '_smooth_' or '_raw_'"
      ],
      "execution_count": null,
      "outputs": []
    },
    {
      "cell_type": "markdown",
      "metadata": {
        "id": "_33ZfxpZ_T48"
      },
      "source": [
        "<font size=\"4\">**1. Import files:**</font>"
      ]
    },
    {
      "cell_type": "markdown",
      "metadata": {
        "id": "ySWrRCxe_T48"
      },
      "source": [
        "Import BOA images and extract metadata:"
      ]
    },
    {
      "cell_type": "code",
      "metadata": {
        "id": "AH1kcE-j_T48"
      },
      "source": [
        "## Load BOA image collection:\n",
        "if 'Sentinel' in satellite:\n",
        "    image = ee.Image(\"COPERNICUS/S2_SR/\"+imageID)\n",
        "elif 'Landsat8' == satellite:\n",
        "    image = ee.Image(\"LANDSAT/LC08/C01/T1_SR/\"+imageID)\n",
        "elif 'Landsat7' == satellite:\n",
        "    image = ee.Image(\"LANDSAT/LE07/C01/T1_SR/\"+imageID)\n",
        "elif 'Landsat5' == satellite:\n",
        "    image = ee.Image(\"LANDSAT/LT05/C01/T1_SR/\"+imageID)\n",
        "\n",
        "## Get image metadata:\n",
        "if 'Sentinel' in satellite:\n",
        "    imageTarget = image.divide(10000).set(image.toDictionary(image.propertyNames()))\n",
        "    imageSat = imageTarget.get('SPACECRAFT_NAME').getInfo() #Image satellite\n",
        "    imageTile = imageTarget.get('MGRS_TILE').getInfo() #Image tile id\n",
        "    ee_date = imageTarget.get('GENERATION_TIME').getInfo()\n",
        "    imageDate = str(datetime.datetime.utcfromtimestamp(ee_date/1000.0)) #Image date\n",
        "    imageGeometry = imageTarget.geometry() #Tile geometry.\n",
        "elif 'Landsat8' == satellite:\n",
        "    imageTarget = image.divide(10000).set(image.toDictionary(image.propertyNames()))\n",
        "    #imageSat = imageTarget.get('SATELLITE').getInfo() #Image satellite\n",
        "    imageSat = satellite\n",
        "    imageTile = str(imageTarget.get('WRS_PATH').getInfo())+str(imageTarget.get('WRS_ROW').getInfo()) #Image tile id\n",
        "    imageDate = imageTarget.get('SENSING_TIME').getInfo()\n",
        "    imageGeometry = imageTarget.geometry() #Tile geometry.\n",
        "        \n",
        "if 'Sentinel' in imageSat:\n",
        "    imageScale = 10 # Sentinel resolution\n",
        "else:\n",
        "    imageScale = 30 # Landsat resolution\n",
        "\n",
        "print('Satellite: ',imageSat)\n",
        "print('Tile: ',imageTile)\n",
        "print('Date: ',imageDate)\n",
        "print(imageDate[0:4])"
      ],
      "execution_count": null,
      "outputs": []
    },
    {
      "cell_type": "markdown",
      "metadata": {
        "id": "nkOZxEMu_T49"
      },
      "source": [
        "Visualize image"
      ]
    },
    {
      "cell_type": "code",
      "metadata": {
        "id": "2Anw5esdj6_b"
      },
      "source": [
        "## USING GEEMAP\n",
        "Map = geemap.Map(center=[40,-100], zoom=4, layer_ctrl=True)\n",
        "##Map = geemap.Map(ee_initialize=False, layer_ctrl=True, toolbar_ctrl=False)\n",
        "##Map\n",
        "\n",
        "## Define the visualization parameters.\n",
        "if 'Sentinel' or 'Landsat8' in imageSat:\n",
        "    vizParams = {\n",
        "        'bands': ['B4', 'B3', 'B2'],\n",
        "        'min': 0,\n",
        "        'max': 0.2,\n",
        "        'gamma': [1.8, 1.8, 1.8]}\n",
        "else:\n",
        "    vizParams = {\n",
        "        'bands': ['B3', 'B2', 'B1'],\n",
        "        'min': 0,\n",
        "        'max': 0.2,\n",
        "        'gamma': [1.8, 1.8, 1.8]} ##Landsat7/5\n",
        "\n",
        "\n",
        "## Center the map and display the image.\n",
        "centroid = imageGeometry.buffer(1).centroid().coordinates().getInfo()\n",
        "#print(centroid)\n",
        "lon = centroid[0]\n",
        "lat = centroid[1]\n",
        "Map.setCenter(lon, lat, 10)\n",
        "Map.addLayer(imageTarget, vizParams, 'RGB')\n",
        "Map"
      ],
      "execution_count": null,
      "outputs": []
    },
    {
      "cell_type": "markdown",
      "metadata": {
        "id": "9U_zU6oz_T4-"
      },
      "source": [
        "<font size=\"3\">**Load other collections and data:**</font>"
      ]
    },
    {
      "cell_type": "code",
      "metadata": {
        "id": "NRdR0mL-_T4-"
      },
      "source": [
        "# Ground-Points [For Training and Validation]\n",
        "groundPoints = ee.FeatureCollection(\"users/lizcanosandoval/public/Points_example\")\n",
        "\n",
        "# Sandy areas [Polygons] - For Water Column Correction [DII]\n",
        "sand_areas = ee.FeatureCollection(\"users/lizcanosandoval/public/Sand_example\")\n",
        "\n",
        "## Florida Bathymetry [NOAA-90m res]\n",
        "bathymetry = ee.Image(\"users/lizcanosandoval/Bathymetry_FL\")\n",
        "\n",
        "## Land [from GADM-HiRes 3.6]\n",
        "land = ee.FeatureCollection(\"users/lizcanosandoval/gadm36_FL\")"
      ],
      "execution_count": null,
      "outputs": []
    },
    {
      "cell_type": "markdown",
      "metadata": {
        "id": "9gDJ7xYe_T4-"
      },
      "source": [
        "<font size=\"3\">**Prepare bathymetry data:**</font>"
      ]
    },
    {
      "cell_type": "code",
      "metadata": {
        "id": "bM2s3GZZ_T4-"
      },
      "source": [
        "## Mask depth ranges [Mask depth range from -20 to 2 meters]\n",
        "bathy_masked = ee.Image(bathymetry).updateMask(bathymetry.lt(2).And(bathymetry.gt(-25)))\n",
        "\n",
        "## Clip bathymetry to the tile geometry/bounds:\n",
        "bathyBand = bathy_masked.clip(imageGeometry)\n",
        "\n",
        "## Vectorize (to FeatureCollection of polygons) the bathymetry collection,\n",
        "## which is a raster image.\n",
        "bathyVector = bathyBand.toByte().reduceToVectors(**{\n",
        "  'reducer': ee.Reducer.countEvery(),\n",
        "  'crs': 'EPSG:4326',\n",
        "  'geometry': None,\n",
        "  'eightConnected': False,\n",
        "  'labelProperty': 'bathymetry',\n",
        "  'scale': 1000,\n",
        "  'geometryType': 'polygon',\n",
        "  'maxPixels': 1e9\n",
        "})"
      ],
      "execution_count": null,
      "outputs": []
    },
    {
      "cell_type": "markdown",
      "metadata": {
        "id": "xBRJr0tY_T4_"
      },
      "source": [
        "<font size=\"4\">**2. Apply masks to image:**</font>"
      ]
    },
    {
      "cell_type": "markdown",
      "metadata": {
        "id": "f9SRddl3_T4_"
      },
      "source": [
        "**Cloud mask:**"
      ]
    },
    {
      "cell_type": "code",
      "metadata": {
        "scrolled": false,
        "id": "7eUzIwtA_T4_"
      },
      "source": [
        "## Recommended Threshold values for\n",
        "## *Sentinel: 2-10\n",
        "## *Landsat: 5-10\n",
        "## The lower threshold the more sensitive to clouds and land/urban areas.\n",
        "if 'Sentinel' in imageSat:\n",
        "    threshold = 5\n",
        "else:\n",
        "    threshold = 5\n",
        "\n",
        "## Apply cloud mask\n",
        "cloudMask = CloudScore6S(imageSat, imageTarget, threshold)\n",
        "\n",
        "## Display image:\n",
        "Map = geemap.Map(center=[lat,lon], zoom=10, layer_ctrl=True)\n",
        "Map.addLayer(cloudMask, vizParams, 'Cloud Mask')\n",
        "Map"
      ],
      "execution_count": null,
      "outputs": []
    },
    {
      "cell_type": "markdown",
      "metadata": {
        "id": "AbnkkRbn_T5A"
      },
      "source": [
        "**Land mask:**"
      ]
    },
    {
      "cell_type": "code",
      "metadata": {
        "scrolled": true,
        "id": "SoQW5O1o_T5A"
      },
      "source": [
        "## Apply land mask\n",
        "landMask = landMaskFunction(cloudMask, land)\n",
        "\n",
        "## Display image:\n",
        "Map = geemap.Map(center=[lat,lon], zoom=10, layer_ctrl=True)\n",
        "Map.addLayer(landMask, vizParams, 'Land Mask')\n",
        "Map"
      ],
      "execution_count": null,
      "outputs": []
    },
    {
      "cell_type": "markdown",
      "metadata": {
        "id": "gJDKlZxk_T5A"
      },
      "source": [
        "**Bathymetry mask:**"
      ]
    },
    {
      "cell_type": "code",
      "metadata": {
        "scrolled": false,
        "id": "N1tszM3q_T5A"
      },
      "source": [
        "## Apply bathymetry mask\n",
        "bathyMask = landMask.clip(bathyVector) ##Using the NOAA dataset: bathyVector\n",
        "\n",
        "## Display image:\n",
        "Map = geemap.Map(center=[lat,lon], zoom=10, layer_ctrl=True)\n",
        "Map.addLayer(bathyMask, vizParams, 'Land Mask')\n",
        "Map"
      ],
      "execution_count": null,
      "outputs": []
    },
    {
      "cell_type": "markdown",
      "metadata": {
        "id": "v_wQkpO6_T5B"
      },
      "source": [
        "**Turbidity mask:**"
      ]
    },
    {
      "cell_type": "code",
      "metadata": {
        "id": "Crspk2K6_T5B"
      },
      "source": [
        "## Turbidity masking is based on the red band reflectances, based on own observations (in South Florida). \n",
        "## Values higher than 0.02-0.03 indicates turbid waters, but sometimes may indicate shallow \"seagrass banks\".\n",
        "## So the below algorithm try to separate shallow seagrasses from turbidity.\n",
        "\n",
        "## Set parameter values\n",
        "if 'Sentinel' in imageSat:\n",
        "    red_band = 'B4' #Red seems work better in this case than B5.\n",
        "    red_thr_inf = 0.025\n",
        "    red_thr_sup = 0.2\n",
        "    green_band = 'B3'\n",
        "    green_thr = 0.15\n",
        "    blue_band = 'B2'\n",
        "    blue_thr = 0.11\n",
        "elif 'Landsat8' in imageSat:\n",
        "    red_band = 'B4'\n",
        "    red_thr_inf = 0.025\n",
        "    red_thr_sup = 0.2\n",
        "    green_band = 'B3'\n",
        "    green_thr = 0.15\n",
        "    blue_band = 'B2'\n",
        "    blue_thr = 0.11\n",
        "else:\n",
        "    red_band = 'B3'\n",
        "    red_thr_inf = 0.03 #Landsat5/7 are less sensitive\n",
        "    red_thr_sup = 0.2\n",
        "    green_band = 'B2'\n",
        "    green_thr = 0.15\n",
        "    blue_band = 'B1'\n",
        "    blue_thr = 0.11\n",
        "\n",
        "## Select the red band\n",
        "selectRedBand = bathyMask.select(red_band)\n",
        "\n",
        "## Identify turbid areas first (pixel values higher than the threshold)\n",
        "turbidMask = selectRedBand.gt(red_thr_inf)\n",
        "\n",
        "## Apply thresholds on red, green and blue bands\n",
        "maskRed = selectRedBand.gt(red_thr_inf).And(selectRedBand.lt(red_thr_sup))\n",
        "imageMaskRed = bathyMask.mask(maskRed)\n",
        "maskGreen = imageMaskRed.select(green_band).lt(green_thr)\n",
        "imageMaskGreen = imageMaskRed.mask(maskGreen)\n",
        "maskBlue = imageMaskGreen.select(blue_band).lt(blue_thr) ##Shallow seagrass\n",
        "\n",
        "## Final mask (excluding seagrass/including turbid water)\n",
        "turbidImage = bathyMask.mask(turbidMask) ## Turbidity\n",
        "seagrassImage = bathyMask.mask(maskBlue).mask().Not() ## Shallow seagrass (inverse mask)\n",
        "excludeSeagrass = turbidImage.updateMask(seagrassImage) ## Turbidity minus shallow seagrass\n",
        "finalMaskImage = bathyMask.mask(excludeSeagrass)\n",
        "finalMask = finalMaskImage.mask().Not()\n",
        "\n",
        "## Final Image\n",
        "finalImage = bathyMask.updateMask(finalMask)"
      ],
      "execution_count": null,
      "outputs": []
    },
    {
      "cell_type": "markdown",
      "metadata": {
        "id": "Hi5uRaqE_T5B"
      },
      "source": [
        "<font size=\"4\">**3. Water column correction:**</font>"
      ]
    },
    {
      "cell_type": "code",
      "metadata": {
        "id": "dLdbfsml_T5B"
      },
      "source": [
        "## Filter sand polygons by tile/area:\n",
        "sand = ee.FeatureCollection(sand_areas).filterBounds(imageGeometry)\n",
        "print('Number of sand polygons: ',sand.size().getInfo())\n",
        "\n",
        "## Run the Depth-Invariant Index Function\n",
        "imageDII = DII(finalImage, imageScale, sand)\n",
        "#print(imageDII.getInfo())"
      ],
      "execution_count": null,
      "outputs": []
    },
    {
      "cell_type": "markdown",
      "metadata": {
        "id": "dgCIZmXb_T5B"
      },
      "source": [
        "<font size=\"4\">**4. Sampling Data:**</font>"
      ]
    },
    {
      "cell_type": "markdown",
      "metadata": {
        "id": "9wKGV8Zw_T5C"
      },
      "source": [
        "Classes in the Ground-Truth dataset are:\n",
        "* 0: Softbottom\n",
        "* 1: Hardbottom\n",
        "* 2: Seagrass\n",
        "* 3: Sparse seagrass //if available"
      ]
    },
    {
      "cell_type": "code",
      "metadata": {
        "id": "4D2I7nRb_T5C"
      },
      "source": [
        "## Filter ground points by tile geometry and display classes\n",
        "filterPoints = ee.FeatureCollection(groundPoints).filterBounds(imageGeometry)\n",
        "print('Classes: ', filterPoints.aggregate_array('class').distinct().getInfo())\n",
        "print('Ground Points per Class:', filterPoints.aggregate_histogram('class').getInfo())\n",
        "\n",
        "## Number of points:\n",
        "totalPoints = filterPoints.size()\n",
        "print('Total points:', totalPoints.getInfo())"
      ],
      "execution_count": null,
      "outputs": []
    },
    {
      "cell_type": "markdown",
      "metadata": {
        "id": "jcN9Rhfs_T5C"
      },
      "source": [
        "Select the bands to sample:"
      ]
    },
    {
      "cell_type": "code",
      "metadata": {
        "id": "_YwnVNH7_T5C"
      },
      "source": [
        "## Select bands to sample. The B/G band is B2B3 in Sentinel-2 and Landsat-8, and B1B2 for Landsat-7/5\n",
        "if 'Sentinel' in imageSat or 'Landsat8' in imageSat:\n",
        "    bandsClass = ['B1','B2', 'B3', 'B4','B2B3']\n",
        "    bg = ['B2B3']\n",
        "else:\n",
        "    bandsClass = ['B1','B2', 'B3', 'B1B2']\n",
        "    bg = ['B1B2']\n",
        "    \n",
        "## Add bands of interest to sample training points:\n",
        "imageClassify = finalImage.addBands(imageDII.select(bg)).select(bandsClass)\n",
        "print('Bands to sample:',imageClassify.bandNames().getInfo())"
      ],
      "execution_count": null,
      "outputs": []
    },
    {
      "cell_type": "markdown",
      "metadata": {
        "id": "BgUgftvN_T5C"
      },
      "source": [
        "**OPTIONAL:** Make training within any specified area (e.g. polygon, shallow areas, or any area of interest). In this case, the bathymetry mask may be no needed."
      ]
    },
    {
      "cell_type": "code",
      "metadata": {
        "id": "9jolx1JL_T5D"
      },
      "source": [
        "## Polygon of known seagrass habitats + 5 km \n",
        "# seagrass_buffer = ee.FeatureCollection(\"users/lizcanosandoval/Seagrass_Habitat_Florida_buff5k\")\n",
        "# imageClassify = imageClassify.clip(seagrass_buffer) #For polygons\n",
        "# cleanImage = displaySettings(imageClassify, rgb)"
      ],
      "execution_count": null,
      "outputs": []
    },
    {
      "cell_type": "markdown",
      "metadata": {
        "id": "Y4mcOpj1_T5D"
      },
      "source": [
        "**APPLY SMOOTHER IF SET**"
      ]
    },
    {
      "cell_type": "code",
      "metadata": {
        "id": "MG8f01TL_T5D"
      },
      "source": [
        "## Apply smoother if set:\n",
        "if 'smooth' in smoothStr:\n",
        "    ## Define a boxcar or low-pass kernel (Used if want to smooth the image)\n",
        "    smooth = ee.Kernel.euclidean(**{\n",
        "        'radius': 1, \n",
        "        'units': 'pixels', \n",
        "        'normalize': True\n",
        "    })\n",
        "    imageClassify = imageClassify.convolve(smooth)"
      ],
      "execution_count": null,
      "outputs": []
    },
    {
      "cell_type": "markdown",
      "metadata": {
        "id": "vT6SMNZ7_T5D"
      },
      "source": [
        "Sample training and validation data:"
      ]
    },
    {
      "cell_type": "code",
      "metadata": {
        "id": "X2OoiAjd_T5D"
      },
      "source": [
        "## Sample multi-spectral data using all ground points.\n",
        "samplingData = imageClassify.sampleRegions(**{\n",
        "    'collection': filterPoints,\n",
        "    'properties': ['class'],\n",
        "    'scale': imageScale})\n",
        "\n",
        "## Add random numbers to each feature (from 0 to 1).\n",
        "randomData = samplingData.randomColumn(\"random\",0)\n",
        "\n",
        "## Split ground data in training (~70%) and validation (~30%) points\n",
        "trainingData = randomData.filter(ee.Filter.lt(\"random\",0.7))\n",
        "validationData = randomData.filter(ee.Filter.gte(\"random\", 0.7))\n",
        "\n",
        "print('Training Points per Class:', trainingData.aggregate_histogram('class').getInfo())\n",
        "print('Validation Points per Class:', validationData.aggregate_histogram('class').getInfo())\n",
        "print('Training Samples (70%):',trainingData.size().getInfo())\n",
        "print('Validation Samples (30%):',validationData.size().getInfo())"
      ],
      "execution_count": null,
      "outputs": []
    },
    {
      "cell_type": "markdown",
      "metadata": {
        "id": "dPUkNozo_T5D"
      },
      "source": [
        "<font size=\"4\">**5. Train models and Classify:**</font>"
      ]
    },
    {
      "cell_type": "code",
      "metadata": {
        "id": "fXGR-5-O_T5D"
      },
      "source": [
        "## Train SVM classifier\n",
        "SVM = ee.Classifier.libsvm(**{\n",
        "   'kernelType': 'RBF',\n",
        "   'gamma': 100,\n",
        "   'cost': 100\n",
        "})\n",
        "trainSVM = SVM.train(**{\n",
        "   'features': trainingData,\n",
        "   'classProperty': 'class',\n",
        "   'inputProperties': bandsClass\n",
        "})\n",
        "\n",
        "#### Classify the image using the trained classifier\n",
        "classifiedSVM = imageClassify.classify(trainSVM)"
      ],
      "execution_count": null,
      "outputs": []
    },
    {
      "cell_type": "markdown",
      "metadata": {
        "id": "w52S8zRU_T5E"
      },
      "source": [
        "Display classified images:"
      ]
    },
    {
      "cell_type": "code",
      "metadata": {
        "id": "pwpTiiIz_T5E"
      },
      "source": [
        "## Define a palette for the distinct classes\n",
        "classPalette = ['#3090C7','#CD7F32','#004E00']#,'#78F878']\n",
        "\n",
        "imgSVM = {\n",
        "    'min':0,\n",
        "    'max':2,\n",
        "    'palette': classPalette\n",
        "    }\n",
        "\n",
        "## Visualize classified image:\n",
        "Map = geemap.Map(center=[lat,lon], zoom=10, layer_ctrl=True)\n",
        "Map.addLayer(imageTarget, vizParams, 'RGB')\n",
        "Map.addLayer(classifiedSVM, imgSVM, 'Classified Image')\n",
        "Map"
      ],
      "execution_count": null,
      "outputs": []
    },
    {
      "cell_type": "markdown",
      "metadata": {
        "id": "LRCgS8Ja_T5E"
      },
      "source": [
        "<font size=\"4\">**6. Get accuracy matrices:**</font>"
      ]
    },
    {
      "cell_type": "markdown",
      "metadata": {
        "id": "5kJi-fFu_T5E"
      },
      "source": [
        "Training accuracies:"
      ]
    },
    {
      "cell_type": "code",
      "metadata": {
        "id": "7f7-__xd_T5F"
      },
      "source": [
        "## Get a confusion matrix representing resubstitution accuracy.\n",
        "## {Resubstitution error is the error of a model on the training data.}\n",
        "## Axis 0 (first level) of the matrix correspond to the input classes (columns), \n",
        "## and axis 1 (second level) to the output classes (rows).\n",
        "matrixTrainingSVM = trainSVM.confusionMatrix()\n",
        "\n",
        "#print('SVM Training Confusion Matrix: ', matrixTrainingSVM.getInfo())\n",
        "\n",
        "print('SVM Training overall accuracy: ', round((matrixTrainingSVM.accuracy().getInfo()), 4))"
      ],
      "execution_count": null,
      "outputs": []
    },
    {
      "cell_type": "markdown",
      "metadata": {
        "id": "w9jkz87s_T5F"
      },
      "source": [
        "Validation accuracies:"
      ]
    },
    {
      "cell_type": "code",
      "metadata": {
        "id": "n8XHu7TG_T5G"
      },
      "source": [
        "## Calculate accuracy using validation data\n",
        "## Classify the image using the trained classifier\n",
        "validationSVM = validationData.classify(trainSVM)\n",
        "\n",
        "## Get a confusion matrix representing expected accuracy (Using validation points - 30%), where:\n",
        "#  0: Softbottom\n",
        "#  1: Hardbottom\n",
        "#  2: Dense Seagrass\n",
        "#  3: Spare Seagrass\n",
        "\n",
        "## Axis 0 (the rows) of the matrix correspond to the actual values, \n",
        "## and Axis 1 (the columns) to the predicted values.\n",
        "errorMx = {'actual': 'class', 'predicted': 'classification'}\n",
        "errorMatrixSVM = validationSVM.errorMatrix(**errorMx)\n",
        "\n",
        "#print('SVM Validation Error Matrix: ', errorMatrixSVM.getInfo())\n",
        "\n",
        "print('SVM validation overall accuracy: ', round((errorMatrixSVM.accuracy().getInfo()), 4))"
      ],
      "execution_count": null,
      "outputs": []
    },
    {
      "cell_type": "markdown",
      "metadata": {
        "id": "PW_T3XVG_T5G"
      },
      "source": [
        "User and Producer accuracies:"
      ]
    },
    {
      "cell_type": "code",
      "metadata": {
        "id": "mKOljjAX_T5G"
      },
      "source": [
        "## Estimate user and producer accuracies\n",
        "producerAccuracySVM = errorMatrixSVM.producersAccuracy()\n",
        "\n",
        "userAccuracySVM = errorMatrixSVM.consumersAccuracy()\n",
        "\n",
        "#print('Producer Accuracy SVM: ',producerAccuracySVM.getInfo())\n",
        "#print('User Accuracy SVM: ',userAccuracySVM.getInfo())"
      ],
      "execution_count": null,
      "outputs": []
    },
    {
      "cell_type": "markdown",
      "metadata": {
        "id": "gdD3Weiy_T5G"
      },
      "source": [
        "Print accuracies as Pandas format:"
      ]
    },
    {
      "cell_type": "code",
      "metadata": {
        "id": "qHNgr4DB_T5G"
      },
      "source": [
        "## Create a pandas dataframe with producer and user accuracies:\n",
        "rowIndex = {0:'Sb', 1:'Hb', 2:'Dn', 3:'Sp'}\n",
        "dfPA_SVM = pd.DataFrame(producerAccuracySVM.getInfo(), columns=['Producer'])\n",
        "dfUA_SVM = pd.DataFrame(userAccuracySVM.getInfo()).transpose()\n",
        "\n",
        "PU_SVM = pd.concat([dfPA_SVM, dfUA_SVM.rename(columns={0:'User'})], axis=1).rename(index=rowIndex)\n",
        "\n",
        "print('\\n SVM: \\n', PU_SVM)"
      ],
      "execution_count": null,
      "outputs": []
    },
    {
      "cell_type": "markdown",
      "metadata": {
        "id": "NhHqW2Ju_T5G"
      },
      "source": [
        "Kappa coefficients:"
      ]
    },
    {
      "cell_type": "code",
      "metadata": {
        "id": "ZF5Ipipf_T5G"
      },
      "source": [
        "# The Kappa Coefficient is generated from a statistical test to evaluate the accuracy \n",
        "# of a classification. Kappa essentially evaluate how well the classification performed \n",
        "# as compared to just randomly assigning values, i.e. did the classification do better \n",
        "# than random. The Kappa Coefficient can range from -1 t0 1. A value of 0 indicated that \n",
        "# the classification is no better than a random classification. A negative number \n",
        "# indicates the classification is significantly worse than random. A value close to 1 \n",
        "# indicates that the classification is significantly better than random.\n",
        "\n",
        "kappaSVM = errorMatrixSVM.kappa()\n",
        "\n",
        "print('Kappa SVM: ', round((kappaSVM.getInfo()), 4))"
      ],
      "execution_count": null,
      "outputs": []
    },
    {
      "cell_type": "markdown",
      "metadata": {
        "id": "zGR4UeMD_T5G"
      },
      "source": [
        "<font size=\"4\">**7. Export Classified Images:**</font>"
      ]
    },
    {
      "cell_type": "code",
      "metadata": {
        "id": "7bG6P-cF_T5H"
      },
      "source": [
        "# Set the scale properly\n",
        "scale = []\n",
        "sat = []\n",
        "method = 'SVM'\n",
        "print('Wait for submission')\n",
        " \n",
        "# Rename satellite\n",
        "if 'Sentinel' in imageSat:\n",
        "    sat = 'Sentinel'\n",
        "else:\n",
        "    sat = 'Landsat'\n",
        "\n",
        "## Select classified image\n",
        "imageFinal = ee.Image(classifiedSVM)\n",
        "\n",
        "# set some properties for export\n",
        "output = imageFinal.set({'satellite': imageSat,\n",
        "               'tile_id': imageTile,\n",
        "               'file_id': imageID,                                               \n",
        "               'date': imageDate,\n",
        "               'year': imageDate[0:4],\n",
        "               'classifier': method,\n",
        "               'generator': 'Lizcano-Sandoval',\n",
        "                    })\n",
        "\n",
        "# define YOUR assetID. (This do not create folders, you need to create them manually)\n",
        "assetID = asset + sat + '/' + exportFolder + '/' ##This goes to an ImageCollection folder\n",
        "fileName = imageID+smoothStr+ method\n",
        "path = assetID + fileName\n",
        "\n",
        "## Batch Export to Assets\n",
        "ee.batch.Export.image.toAsset(\\\n",
        "    image = ee.Image(output),                                                    \n",
        "    description = method +smoothStr+ imageID,\n",
        "    assetId = path,\n",
        "    region = imageGeometry.buffer(10),                                      \n",
        "    maxPixels = 1e13,\n",
        "    scale = imageScale).start()\n",
        "print('Classified Image '+str(i+1)+': '+imageID +smoothStr+ method+' submitted...')\n",
        "print('Done!')"
      ],
      "execution_count": null,
      "outputs": []
    },
    {
      "cell_type": "markdown",
      "metadata": {
        "id": "-QFKWAwN_T5H"
      },
      "source": [
        "<font size=\"4\">**8. Save Matrices to Working Directory:**</font>"
      ]
    },
    {
      "cell_type": "markdown",
      "metadata": {
        "id": "SdGQfhtD_T5H"
      },
      "source": [
        "Extract values from each matrix"
      ]
    },
    {
      "cell_type": "code",
      "metadata": {
        "id": "oo-Jcadi_T5H"
      },
      "source": [
        "SVM_trainingMatrix = matrixTrainingSVM.array().getInfo()\n",
        "SVM_trainingAccuracy = matrixTrainingSVM.accuracy().getInfo()\n",
        "SVM_errorMatrix = errorMatrixSVM.array().getInfo()\n",
        "SVM_errorAccuracy = errorMatrixSVM.accuracy().getInfo()\n",
        "SVM_producerAccuracy = producerAccuracySVM.getInfo()\n",
        "SVM_userAccuracy = userAccuracySVM.getInfo()\n",
        "SVM_kappa = kappaSVM.getInfo()\n",
        "\n",
        "print('These matrices needs to be reformatted, e.g.: ', SVM_trainingMatrix)"
      ],
      "execution_count": null,
      "outputs": []
    },
    {
      "cell_type": "markdown",
      "metadata": {
        "id": "7GX8F609_T5H"
      },
      "source": [
        "Convert matrices to pandas dataframes"
      ]
    },
    {
      "cell_type": "code",
      "metadata": {
        "id": "-SEiKkh4_T5H"
      },
      "source": [
        "#Training Matrices\n",
        "TM_SVM = pd.DataFrame(SVM_trainingMatrix).rename(columns=rowIndex, index=rowIndex)\n",
        "TM_concat = pd.concat([TM_SVM], keys=['SVM'])\n",
        "\n",
        "#Training Accuracies\n",
        "TA_SVM = pd.Series(SVM_trainingAccuracy)\n",
        "TA_concat = pd.DataFrame(pd.concat([TA_SVM],ignore_index=True), columns=(['Tr_Accuracy']))\\\n",
        "                .rename({0:'SVM'})\n",
        "\n",
        "#Validation-Error Matrices\n",
        "VM_SVM = pd.DataFrame(SVM_errorMatrix).rename(columns=rowIndex, index=rowIndex)\n",
        "VM_concat = pd.concat([VM_SVM], keys=['SVM'])\n",
        "\n",
        "#Validation Accuracies\n",
        "VA_SVM = pd.Series(SVM_errorAccuracy)\n",
        "VA_concat = pd.DataFrame(pd.concat([VA_SVM],ignore_index=True), columns=(['Va_Accuracy']))\\\n",
        "                .rename({0:'SVM'})\n",
        "\n",
        "#Producer-User Accuracies\n",
        "PU_concat = pd.concat([PU_SVM], keys=['SVM'])\n",
        "\n",
        "#Kappa coefficients\n",
        "Kp_SVM = pd.Series(SVM_kappa)\n",
        "Kp_concat = pd.DataFrame(pd.concat([Kp_SVM],ignore_index=True), columns=(['Kappa']))\\\n",
        "                .rename({0:'SVM'})\n",
        "\n",
        "Kp_concat.style.set_caption('Kappa coefficients')\n",
        "#print(Kp_concat)"
      ],
      "execution_count": null,
      "outputs": []
    },
    {
      "cell_type": "markdown",
      "metadata": {
        "id": "r7Jlm_cY_T5I"
      },
      "source": [
        "Extract the number of training and validation points per class:"
      ]
    },
    {
      "cell_type": "code",
      "metadata": {
        "id": "hngdf7dD_T5I"
      },
      "source": [
        "trainingInfo = trainingData.aggregate_histogram('class').getInfo()\n",
        "validationInfo = validationData.aggregate_histogram('class').getInfo()\n",
        "\n",
        "traSeries = pd.Series(trainingInfo)\n",
        "valSeries = pd.Series(validationInfo)\n",
        "\n",
        "Points_concat = pd.DataFrame(pd.concat([traSeries, valSeries],ignore_index=True,axis=1))\\\n",
        "                .rename(columns={0:'TraPoints',1:'ValPoints'}).rename({'0':'Sb','1':'Hb','2':'Dn'},axis='index')\n",
        "print(Points_concat)"
      ],
      "execution_count": null,
      "outputs": []
    },
    {
      "cell_type": "markdown",
      "metadata": {
        "id": "IN4fZQS-_T5I"
      },
      "source": [
        "Organize each matrix in separate excel sheets"
      ]
    },
    {
      "cell_type": "code",
      "metadata": {
        "id": "LuGCMqg8_T5I"
      },
      "source": [
        "excelName = 'Mrx'+ smoothStr + imageID +'.xlsx'\n",
        "excel = pd.ExcelWriter(excelName, engine='xlsxwriter')\n",
        "\n",
        "Points_concat.to_excel(excel, sheet_name='Points', index=True, startrow=0)\n",
        "TM_concat.to_excel(excel, sheet_name='TrMrx', index=True, startrow=0)\n",
        "TA_concat.to_excel(excel, sheet_name='TrAcc', index=True, startrow=0)\n",
        "VM_concat.to_excel(excel, sheet_name='VaMrx', index=True, startrow=0)\n",
        "VA_concat.to_excel(excel, sheet_name='VaAcc', index=True, startrow=0)\n",
        "PU_concat.to_excel(excel, sheet_name='PU-Mrx', index=True, startrow=0)\n",
        "Kp_concat.to_excel(excel, sheet_name='Kappa', index=True, startrow=0)"
      ],
      "execution_count": null,
      "outputs": []
    },
    {
      "cell_type": "markdown",
      "metadata": {
        "id": "SVonL4bn_T5I"
      },
      "source": [
        "Save matrices as .xlsx file:"
      ]
    },
    {
      "cell_type": "code",
      "metadata": {
        "id": "UkTe7-1l_T5I"
      },
      "source": [
        "excel.save()\n",
        "print('SAVED')"
      ],
      "execution_count": null,
      "outputs": []
    },
    {
      "cell_type": "code",
      "metadata": {
        "id": "78YsYG2D_T5I"
      },
      "source": [
        ""
      ],
      "execution_count": null,
      "outputs": []
    }
  ]
}
